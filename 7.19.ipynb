{
 "cells": [
  {
   "cell_type": "markdown",
   "metadata": {},
   "source": [
    "# 循环\n",
    "- 循环是一种控制语句块重复执行的结构\n",
    "- while  适用于广度遍历\n",
    "- for    开发中经常使用"
   ]
  },
  {
   "cell_type": "markdown",
   "metadata": {},
   "source": [
    "## while 循环\n",
    "- 当一个条件保持真的时候while循环重复执行语句\n",
    "- while 循环一定要有结束条件，否则很容易进入死循环\n",
    "- while 循环的语法是：\n",
    "\n",
    "    while loop-contunuation-conndition:\n",
    "\n",
    "        Statement"
   ]
  },
  {
   "cell_type": "code",
   "execution_count": 7,
   "metadata": {},
   "outputs": [
    {
     "name": "stdout",
     "output_type": "stream",
     "text": [
      "a\n",
      "b\n",
      "c\n",
      "d\n"
     ]
    }
   ],
   "source": [
    "a='abcd'\n",
    "i=0\n",
    "while i<4:\n",
    "    print(a[i])\n",
    "    i+=1"
   ]
  },
  {
   "cell_type": "markdown",
   "metadata": {},
   "source": [
    "## 示例：\n",
    "sum = 0\n",
    "\n",
    "i = 1\n",
    "\n",
    "while i <10:\n",
    "\n",
    "    sum = sum + i\n",
    "    i = i + 1"
   ]
  },
  {
   "cell_type": "markdown",
   "metadata": {},
   "source": [
    "## 错误示例：\n",
    "sum = 0\n",
    "\n",
    "i = 1\n",
    "\n",
    "while i <10:\n",
    "\n",
    "    sum = sum + i\n",
    "\n",
    "i = i + 1\n",
    "- 一旦进入死循环可按 Ctrl + c 停止"
   ]
  },
  {
   "cell_type": "markdown",
   "metadata": {},
   "source": [
    "## EP：\n",
    "![](../Photo/143.png)\n",
    "![](../Photo/144.png)"
   ]
  },
  {
   "cell_type": "markdown",
   "metadata": {},
   "source": [
    "# 验证码\n",
    "- 随机产生四个字母的验证码，如果正确，输出验证码正确。如果错误，产生新的验证码，用户重新输入。\n",
    "- 验证码只能输入三次，如果三次都错，返回“别爬了，我们小网站没什么好爬的”\n",
    "- 密码登录，如果三次错误，账号被锁定\n"
   ]
  },
  {
   "cell_type": "code",
   "execution_count": 2,
   "metadata": {},
   "outputs": [],
   "source": [
    "import random"
   ]
  },
  {
   "cell_type": "code",
   "execution_count": 10,
   "metadata": {},
   "outputs": [
    {
     "name": "stdout",
     "output_type": "stream",
     "text": [
      "POUX\n",
      "number:a\n",
      "no\n",
      "POUX\n",
      "number:POUX\n",
      "yes\n"
     ]
    }
   ],
   "source": [
    "a_str=''\n",
    "i=0\n",
    "while i<3:\n",
    "    while len(a_str)<4:\n",
    "        a=random.randint(65,90)\n",
    "        a_str+=chr(a)\n",
    "    print(a_str)\n",
    "    b=input('number:')\n",
    "    if b==a_str:\n",
    "        print('yes')\n",
    "        break\n",
    "    else:\n",
    "        print('no')\n",
    "        i=i+1\n",
    "        b=''"
   ]
  },
  {
   "cell_type": "code",
   "execution_count": 5,
   "metadata": {},
   "outputs": [
    {
     "name": "stdout",
     "output_type": "stream",
     "text": [
      "KJGC\n",
      "number:a\n",
      "no\n",
      "KJGC\n",
      "number:a\n",
      "no\n",
      "KJGC\n",
      "number:a\n",
      "no\n",
      "别爬了\n"
     ]
    }
   ],
   "source": [
    "a_str=''\n",
    "i=0\n",
    "while i<3:\n",
    "    while len(a_str)<4:\n",
    "        a=random.randint(65,90)\n",
    "        a_str+=chr(a)\n",
    "    print(a_str)\n",
    "    b=input('number:')\n",
    "    if b==a_str:\n",
    "        print('yes')\n",
    "        break\n",
    "    else:\n",
    "        print('no')\n",
    "        i=i+1\n",
    "        b=''\n",
    "    if i==3:\n",
    "        print('别爬了')"
   ]
  },
  {
   "cell_type": "code",
   "execution_count": 12,
   "metadata": {},
   "outputs": [],
   "source": [
    "j=0"
   ]
  },
  {
   "cell_type": "code",
   "execution_count": 14,
   "metadata": {},
   "outputs": [
    {
     "name": "stdout",
     "output_type": "stream",
     "text": [
      ">>tom\n",
      "OK\n"
     ]
    }
   ],
   "source": [
    "passwd='tom'\n",
    "i=0\n",
    "if j!=3:\n",
    "    while i<3:\n",
    "        pass_=input('>>')\n",
    "        if pass_==passwd:\n",
    "            print(\"OK\")\n",
    "            break\n",
    "        else:\n",
    "            print(\"err\")\n",
    "            i+=1\n",
    "else:\n",
    "    print(\"已锁定\")"
   ]
  },
  {
   "cell_type": "code",
   "execution_count": 6,
   "metadata": {},
   "outputs": [
    {
     "name": "stdout",
     "output_type": "stream",
     "text": [
      "VMTU\n",
      "number:a\n",
      "no\n",
      "number:a\n",
      "no\n",
      "number:a\n",
      "no\n",
      "已锁定\n"
     ]
    }
   ],
   "source": [
    "a_str=''\n",
    "i=0\n",
    "while i<3:\n",
    "    while len(a_str)<4:\n",
    "        a=random.randint(65,90)\n",
    "        a_str+=chr(a)\n",
    "    print(a_str)\n",
    "    for m in range(3):\n",
    "        b=input('number:')\n",
    "        if b==a_str:\n",
    "            print('yes')\n",
    "            break\n",
    "        else:\n",
    "            print('no')\n",
    "            b=''\n",
    "            i=i+1\n",
    "        m+=1\n",
    "        if m==3:\n",
    "            print('已锁定')"
   ]
  },
  {
   "cell_type": "code",
   "execution_count": 4,
   "metadata": {},
   "outputs": [
    {
     "data": {
      "image/png": "[encoded data removed]",
      "text/plain": [
       "<matplotlib.figure.Figure at 0x7ba9390>"
      ]
     },
     "metadata": {},
     "output_type": "display_data"
    }
   ],
   "source": [
    "import matplotlib.pyplot as plt\n",
    "list_ = [1,2,3,4,5,6,7]\n",
    "list__ = [4,5,6,7,8,9,8]\n",
    "plt.plot(list_,list__)\n",
    "plt.show()"
   ]
  },
  {
   "cell_type": "code",
   "execution_count": 28,
   "metadata": {},
   "outputs": [
    {
     "name": "stdout",
     "output_type": "stream",
     "text": [
      "[-50, -49, -48, -47, -46, -45, -44, -43, -42, -41, -40, -39, -38, -37, -36, -35, -34, -33, -32, -31, -30, -29, -28, -27, -26, -25, -24, -23, -22, -21, -20, -19, -18, -17, -16, -15, -14, -13, -12, -11, -10, -9, -8, -7, -6, -5, -4, -3, -2, -1, 0, 1, 2, 3, 4, 5, 6, 7, 8, 9, 10, 11, 12, 13, 14, 15, 16, 17, 18, 19, 20, 21, 22, 23, 24, 25, 26, 27, 28, 29, 30, 31, 32, 33, 34, 35, 36, 37, 38, 39, 40, 41, 42, 43, 44, 45, 46, 47, 48, 49] [2500, 2401, 2304, 2209, 2116, 2025, 1936, 1849, 1764, 1681, 1600, 1521, 1444, 1369, 1296, 1225, 1156, 1089, 1024, 961, 900, 841, 784, 729, 676, 625, 576, 529, 484, 441, 400, 361, 324, 289, 256, 225, 196, 169, 144, 121, 100, 81, 64, 49, 36, 25, 16, 9, 4, 1, 0, 1, 4, 9, 16, 25, 36, 49, 64, 81, 100, 121, 144, 169, 196, 225, 256, 289, 324, 361, 400, 441, 484, 529, 576, 625, 676, 729, 784, 841, 900, 961, 1024, 1089, 1156, 1225, 1296, 1369, 1444, 1521, 1600, 1681, 1764, 1849, 1936, 2025, 2116, 2209, 2304, 2401]\n"
     ]
    },
    {
     "data": {
      "image/png": "[encoded data removed]",
      "text/plain": [
       "<matplotlib.figure.Figure at 0x1ae1070>"
      ]
     },
     "metadata": {},
     "output_type": "display_data"
    }
   ],
   "source": [
    "import matplotlib.pyplot as plt\n",
    "x_list=[]\n",
    "y_list=[]\n",
    "for x in range (-50,50,1):\n",
    "    y=x**2\n",
    "    x_list.append(x)\n",
    "    y_list.append(y)\n",
    "print(x_list,y_list)\n",
    "plt.plot(x_list,y_list)\n",
    "plt.show()"
   ]
  },
  {
   "cell_type": "markdown",
   "metadata": {},
   "source": [
    "## 尝试死循环"
   ]
  },
  {
   "cell_type": "markdown",
   "metadata": {},
   "source": [
    "## 实例研究：猜数字\n",
    "- 你将要编写一个能够随机生成一个0到10之间的且包括两者的数字程序，这个程序\n",
    "- 提示用户连续地输入数字直到正确，且提示用户输入的数字是过高还是过低"
   ]
  },
  {
   "cell_type": "code",
   "execution_count": 3,
   "metadata": {},
   "outputs": [
    {
     "name": "stdout",
     "output_type": "stream",
     "text": [
      "10\n",
      ">>1\n",
      "di\n",
      "2\n",
      ">>6\n",
      "gao\n",
      "3\n",
      ">>3\n"
     ]
    }
   ],
   "source": [
    "import random\n",
    "a=random.randint(0,11)\n",
    "print(a)\n",
    "b=eval(input(\">>\"))\n",
    "if b==a:\n",
    "    print(\"OK\")\n",
    "while b!=a:\n",
    "    if b>a:\n",
    "        print(\"gao\")\n",
    "        a=random.randint(0,11)\n",
    "        print(a)\n",
    "        b=eval(input(\">>\"))\n",
    "    else:\n",
    "        if b<a:\n",
    "            print(\"di\")\n",
    "            a=random.randint(0,11)\n",
    "            print(a)\n",
    "            b=eval(input(\">>\"))"
   ]
  },
  {
   "cell_type": "markdown",
   "metadata": {},
   "source": [
    "## 使用哨兵值来控制循环\n",
    "- 哨兵值来表明输入的结束\n",
    "- ![](../Photo/54.png)"
   ]
  },
  {
   "cell_type": "markdown",
   "metadata": {},
   "source": [
    "## 警告\n",
    "![](../Photo/55.png)"
   ]
  },
  {
   "cell_type": "markdown",
   "metadata": {},
   "source": [
    "## for 循环\n",
    "- Python的for 循环通过一个序列中的每个值来进行迭代\n",
    "- range(a,b,k)， a，b，k 必须为整数\n",
    "- a: start\n",
    "- b: end\n",
    "- k: step\n",
    "- 注意for 是循环一切可迭代对象，而不是只能使用range"
   ]
  },
  {
   "cell_type": "markdown",
   "metadata": {},
   "source": [
    "# 在Python里面一切皆对象"
   ]
  },
  {
   "cell_type": "markdown",
   "metadata": {},
   "source": [
    "## EP:\n",
    "- ![](../Photo/145.png)"
   ]
  },
  {
   "cell_type": "code",
   "execution_count": 7,
   "metadata": {},
   "outputs": [
    {
     "name": "stdout",
     "output_type": "stream",
     "text": [
      ">>2\n",
      ">>3\n",
      ">>4\n",
      ">>5\n",
      ">>0\n",
      "14\n",
      "5\n"
     ]
    }
   ],
   "source": [
    "n=0\n",
    "s=0\n",
    "i=0\n",
    "while i<5:\n",
    "    n=eval(input('>>'))\n",
    "    s=s+n\n",
    "    i=i+1\n",
    "print(s)\n",
    "print(i)"
   ]
  },
  {
   "cell_type": "code",
   "execution_count": 1,
   "metadata": {},
   "outputs": [
    {
     "name": "stdout",
     "output_type": "stream",
     "text": [
      "500500\n"
     ]
    }
   ],
   "source": [
    "s=0\n",
    "i=0\n",
    "while i<1001:\n",
    "    s=s+i\n",
    "    i+=1\n",
    "print(s)"
   ]
  },
  {
   "cell_type": "code",
   "execution_count": 4,
   "metadata": {},
   "outputs": [
    {
     "name": "stdout",
     "output_type": "stream",
     "text": [
      "10011\n"
     ]
    }
   ],
   "source": [
    "i=1\n",
    "s=0\n",
    "while s<10000:\n",
    "    s+=i\n",
    "    i+=1\n",
    "print(s)"
   ]
  },
  {
   "cell_type": "code",
   "execution_count": 5,
   "metadata": {},
   "outputs": [
    {
     "name": "stdout",
     "output_type": "stream",
     "text": [
      "10011\n"
     ]
    }
   ],
   "source": [
    "i=0\n",
    "s=0\n",
    "for i in range(10000):\n",
    "    if s>10000:\n",
    "        break\n",
    "    s=s+i\n",
    "print(s)"
   ]
  },
  {
   "cell_type": "markdown",
   "metadata": {},
   "source": [
    "## 嵌套循环\n",
    "- 一个循环可以嵌套另一个循环\n",
    "- 每次循环外层时，内层循环都会被刷新重新完成循环\n",
    "- 也就是说，大循环执行一次，小循环会全部执行一次\n",
    "- 注意：\n",
    "> - 多层循环非常耗时\n",
    "  - 最多使用3层循环"
   ]
  },
  {
   "cell_type": "markdown",
   "metadata": {},
   "source": [
    "## EP：\n",
    "- 使用多层循环完成9X9乘法表\n",
    "- 显示50以内所有的素数"
   ]
  },
  {
   "cell_type": "code",
   "execution_count": 34,
   "metadata": {},
   "outputs": [
    {
     "name": "stdout",
     "output_type": "stream",
     "text": [
      "1 * 1 = 1   \n",
      "1 * 2 = 2   2 * 2 = 4   \n",
      "1 * 3 = 3   2 * 3 = 6   3 * 3 = 9   \n",
      "1 * 4 = 4   2 * 4 = 8   3 * 4 = 12   4 * 4 = 16   \n",
      "1 * 5 = 5   2 * 5 = 10   3 * 5 = 15   4 * 5 = 20   5 * 5 = 25   \n",
      "1 * 6 = 6   2 * 6 = 12   3 * 6 = 18   4 * 6 = 24   5 * 6 = 30   6 * 6 = 36   \n",
      "1 * 7 = 7   2 * 7 = 14   3 * 7 = 21   4 * 7 = 28   5 * 7 = 35   6 * 7 = 42   7 * 7 = 49   \n",
      "1 * 8 = 8   2 * 8 = 16   3 * 8 = 24   4 * 8 = 32   5 * 8 = 40   6 * 8 = 48   7 * 8 = 56   8 * 8 = 64   \n",
      "1 * 9 = 9   2 * 9 = 18   3 * 9 = 27   4 * 9 = 36   5 * 9 = 45   6 * 9 = 54   7 * 9 = 63   8 * 9 = 72   9 * 9 = 81   \n"
     ]
    }
   ],
   "source": [
    "for i in range(1,10):\n",
    "    for j in range(1,i+1):\n",
    "        m=i*j\n",
    "        print(j,\"*\",i,\"=\",m,end='   ')\n",
    "    print(\"\")"
   ]
  },
  {
   "cell_type": "code",
   "execution_count": 10,
   "metadata": {},
   "outputs": [
    {
     "name": "stdout",
     "output_type": "stream",
     "text": [
      "2\n",
      "3\n",
      "5\n",
      "7\n",
      "11\n",
      "13\n",
      "17\n",
      "19\n",
      "23\n",
      "29\n",
      "31\n",
      "37\n",
      "41\n",
      "43\n",
      "47\n"
     ]
    }
   ],
   "source": [
    "for i in range (2,50):\n",
    "    if i==2:\n",
    "        print(i)\n",
    "    for j in range(2,i):\n",
    "        if i%j==0:\n",
    "            break\n",
    "        else:\n",
    "            if j==i-1:\n",
    "                print(i)"
   ]
  },
  {
   "cell_type": "markdown",
   "metadata": {},
   "source": [
    "## 关键字 break 和 continue\n",
    "- break 跳出循环，终止循环\n",
    "- continue 跳出此次循环，继续执行"
   ]
  },
  {
   "cell_type": "markdown",
   "metadata": {},
   "source": [
    "## 注意\n",
    "![](../Photo/56.png)\n",
    "![](../Photo/57.png)"
   ]
  },
  {
   "cell_type": "markdown",
   "metadata": {},
   "source": [
    "# Homework\n",
    "- 1 \n",
    "![](../Photo/58.png)"
   ]
  },
  {
   "cell_type": "code",
   "execution_count": 3,
   "metadata": {},
   "outputs": [
    {
     "name": "stdout",
     "output_type": "stream",
     "text": [
      "if it is 0 >>1\n",
      "if it is 0 >>2\n",
      "if it is 0 >>3\n",
      "if it is 0 >>-1\n",
      "if it is 0 >>0\n",
      "3 1 1.75\n"
     ]
    }
   ],
   "source": [
    "i=0\n",
    "j=0\n",
    "s1=0\n",
    "s2=0\n",
    "while 1:\n",
    "    a=eval(input('if it is 0 >>'))\n",
    "    if a==0:\n",
    "        break\n",
    "    else:\n",
    "        if a>0:\n",
    "            i+=1\n",
    "            s1+=i\n",
    "        else:\n",
    "            if a<0:\n",
    "                j+=1\n",
    "                s2+=j\n",
    "        ave=(s1+s2)/(i+j)\n",
    "print(i,j,ave)"
   ]
  },
  {
   "cell_type": "markdown",
   "metadata": {},
   "source": [
    "- 2\n",
    "![](../Photo/59.png)"
   ]
  },
  {
   "cell_type": "markdown",
   "metadata": {},
   "source": [
    "- 3\n",
    "![](../Photo/58.png)"
   ]
  },
  {
   "cell_type": "markdown",
   "metadata": {},
   "source": [
    "- 4\n",
    "![](../Photo/60.png)"
   ]
  },
  {
   "cell_type": "code",
   "execution_count": 20,
   "metadata": {},
   "outputs": [
    {
     "name": "stdout",
     "output_type": "stream",
     "text": [
      "120 150 180 210 240 270 300 330 360 390 \n",
      "420 450 480 510 540 570 600 630 660 690 \n",
      "720 750 780 810 840 870 900 930 960 990 \n"
     ]
    }
   ],
   "source": [
    "j=0\n",
    "for i in range(100,1000):\n",
    "        if i%5==0 and i%6==0:\n",
    "            print(i,end=' ')\n",
    "            j+=1\n",
    "            if j%10==0:\n",
    "                print('')"
   ]
  },
  {
   "cell_type": "markdown",
   "metadata": {},
   "source": [
    "- 5\n",
    "![](../Photo/61.png)"
   ]
  },
  {
   "cell_type": "code",
   "execution_count": 58,
   "metadata": {},
   "outputs": [
    {
     "name": "stdout",
     "output_type": "stream",
     "text": [
      "110\n"
     ]
    }
   ],
   "source": [
    "n=1\n",
    "while n*n<12000:\n",
    "    n=n+1\n",
    "    continue\n",
    "print(n)"
   ]
  },
  {
   "cell_type": "code",
   "execution_count": 63,
   "metadata": {},
   "outputs": [
    {
     "name": "stdout",
     "output_type": "stream",
     "text": [
      "22\n"
     ]
    }
   ],
   "source": [
    "n=12000\n",
    "while n*n*n>12000:\n",
    "    n=n-1\n",
    "    continue\n",
    "print(n)"
   ]
  },
  {
   "cell_type": "markdown",
   "metadata": {},
   "source": [
    "- 6\n",
    "![](../Photo/62.png)"
   ]
  },
  {
   "cell_type": "code",
   "execution_count": null,
   "metadata": {},
   "outputs": [],
   "source": [
    "amount=eval(input('amount:'))\n",
    "num=eval(input('num:'))\n",
    "i=i+0.125"
   ]
  },
  {
   "cell_type": "markdown",
   "metadata": {},
   "source": [
    "- 7\n",
    "![](../Photo/63.png)"
   ]
  },
  {
   "cell_type": "code",
   "execution_count": 33,
   "metadata": {},
   "outputs": [
    {
     "name": "stdout",
     "output_type": "stream",
     "text": [
      "num:50000\n",
      "sum: 11.397003949278504\n"
     ]
    }
   ],
   "source": [
    "n=eval(input('num:'))\n",
    "s=0\n",
    "for i in range(1,n+1):\n",
    "    s=s+1.0/i\n",
    "print(\"sum:\",s)"
   ]
  },
  {
   "cell_type": "code",
   "execution_count": 36,
   "metadata": {},
   "outputs": [
    {
     "name": "stdout",
     "output_type": "stream",
     "text": [
      "num:50000\n",
      "sum: 11.397003949278519\n"
     ]
    }
   ],
   "source": [
    "n=eval(input('num:'))\n",
    "s=0\n",
    "while n:\n",
    "    s=s+1.0/n\n",
    "    n-=1\n",
    "print(\"sum:\",s)"
   ]
  },
  {
   "cell_type": "markdown",
   "metadata": {},
   "source": [
    "- 8\n",
    "![](../Photo/64.png)"
   ]
  },
  {
   "cell_type": "code",
   "execution_count": 37,
   "metadata": {},
   "outputs": [
    {
     "name": "stdout",
     "output_type": "stream",
     "text": [
      "sum: 45.124450303050196\n"
     ]
    }
   ],
   "source": [
    "s=0\n",
    "for i in range(1,50):\n",
    "    s=s+(2*i-1)/(2*i+1)\n",
    "print(\"sum:\",s)"
   ]
  },
  {
   "cell_type": "markdown",
   "metadata": {},
   "source": [
    "- 9\n",
    "![](../Photo/65.png)"
   ]
  },
  {
   "cell_type": "code",
   "execution_count": 4,
   "metadata": {},
   "outputs": [
    {
     "name": "stdout",
     "output_type": "stream",
     "text": [
      ">>100000\n",
      "sum: 3.1415826535897198\n"
     ]
    }
   ],
   "source": [
    "n=eval(input('>>'))\n",
    "s=0\n",
    "for i in range(1,n+1):\n",
    "    t1=(-1)**(i+1)\n",
    "    t2=2*i-1\n",
    "    s=s+t1/t2\n",
    "print(\"sum:\",4*s)"
   ]
  },
  {
   "cell_type": "markdown",
   "metadata": {},
   "source": [
    "- 10 \n",
    "![](../Photo/66.png)"
   ]
  },
  {
   "cell_type": "code",
   "execution_count": 22,
   "metadata": {},
   "outputs": [
    {
     "name": "stdout",
     "output_type": "stream",
     "text": [
      "6\n",
      "28\n",
      "496\n",
      "8128\n"
     ]
    }
   ],
   "source": [
    "for i in range(1,10000):\n",
    "    s=0\n",
    "    for j in range(1,i):\n",
    "        if i%j==0:\n",
    "            s+=j\n",
    "    if s==i:\n",
    "        print(i)"
   ]
  },
  {
   "cell_type": "markdown",
   "metadata": {},
   "source": [
    "- 11\n",
    "![](../Photo/67.png)"
   ]
  },
  {
   "cell_type": "code",
   "execution_count": 54,
   "metadata": {},
   "outputs": [
    {
     "name": "stdout",
     "output_type": "stream",
     "text": [
      "1 1\n",
      "1 2\n",
      "1 3\n",
      "1 4\n",
      "1 5\n",
      "1 6\n",
      "1 7\n",
      "2 1\n",
      "2 2\n",
      "2 3\n",
      "2 4\n",
      "2 5\n",
      "2 6\n",
      "2 7\n",
      "3 1\n",
      "3 2\n",
      "3 3\n",
      "3 4\n",
      "3 5\n",
      "3 6\n",
      "3 7\n",
      "4 1\n",
      "4 2\n",
      "4 3\n",
      "4 4\n",
      "4 5\n",
      "4 6\n",
      "4 7\n",
      "5 1\n",
      "5 2\n",
      "5 3\n",
      "5 4\n",
      "5 5\n",
      "5 6\n",
      "5 7\n",
      "6 1\n",
      "6 2\n",
      "6 3\n",
      "6 4\n",
      "6 5\n",
      "6 6\n",
      "6 7\n",
      "7 1\n",
      "7 2\n",
      "7 3\n",
      "7 4\n",
      "7 5\n",
      "7 6\n",
      "7 7\n",
      "21\n"
     ]
    }
   ],
   "source": [
    "list1=['1','2','3','4','5','6','7']\n",
    "list2=['1','2','3','4','5','6','7']\n",
    "m=0\n",
    "for i in range(0,7):\n",
    "    for j in range(0,7):\n",
    "        print(list1[i],list2[j]) \n",
    "        m+=1\n",
    "k=int((m-7)/2)\n",
    "print(k)"
   ]
  },
  {
   "cell_type": "markdown",
   "metadata": {},
   "source": [
    "- 12\n",
    "![](../Photo/68.png)"
   ]
  },
  {
   "cell_type": "code",
   "execution_count": 45,
   "metadata": {},
   "outputs": [
    {
     "name": "stdout",
     "output_type": "stream",
     "text": [
      ">>1\n",
      ">>2\n",
      ">>3\n",
      ">>5.5\n",
      ">>5.6\n",
      ">>6\n",
      ">>7\n",
      ">>8\n",
      ">>9\n",
      ">>10\n",
      "5.71 2.8333333333333335\n"
     ]
    }
   ],
   "source": [
    "import math\n",
    "s=0\n",
    "for i in range (10):\n",
    "    n=eval(input('>>'))\n",
    "    s=s+n\n",
    "    t1=(n-ave)**2\n",
    "ave=s/10\n",
    "d=math.sqrt(t1/9)\n",
    "print(ave,d)"
   ]
  }
 ],
 "metadata": {
  "kernelspec": {
   "display_name": "Python 3",
   "language": "python",
   "name": "python3"
  },
  "language_info": {
   "codemirror_mode": {
    "name": "ipython",
    "version": 3
   },
   "file_extension": ".py",
   "mimetype": "text/x-python",
   "name": "python",
   "nbconvert_exporter": "python",
   "pygments_lexer": "ipython3",
   "version": "3.6.4"
  }
 },
 "nbformat": 4,
 "nbformat_minor": 2
}
