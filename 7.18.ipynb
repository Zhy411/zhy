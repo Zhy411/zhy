{
 "cells": [
  {
   "cell_type": "markdown",
   "metadata": {},
   "source": [
    "# 选择\n",
    "## 布尔类型、数值和表达式\n",
    "![](../Photo/33.png)\n",
    "- 注意：比较运算符的相等是两个等到，一个等到代表赋值\n",
    "- 在Python中可以用整型0来代表False，其他数字来代表True\n",
    "- 后面还会讲到 is 在判断语句中的用发"
   ]
  },
  {
   "cell_type": "code",
   "execution_count": 1,
   "metadata": {},
   "outputs": [
    {
     "name": "stdout",
     "output_type": "stream",
     "text": [
      "False\n"
     ]
    }
   ],
   "source": [
    "print(1>2)"
   ]
  },
  {
   "cell_type": "code",
   "execution_count": 39,
   "metadata": {},
   "outputs": [],
   "source": [
    "yu=10000"
   ]
  },
  {
   "cell_type": "code",
   "execution_count": 41,
   "metadata": {},
   "outputs": [
    {
     "name": "stdout",
     "output_type": "stream",
     "text": [
      "input money:100\n",
      "余额为： 9800\n"
     ]
    }
   ],
   "source": [
    "a=eval(input('input money:'))\n",
    "if a<=yu:\n",
    "    yu=yu-a\n",
    "    print(\"余额为：\",yu)\n",
    "else:\n",
    "    print(\"余额不足\")"
   ]
  },
  {
   "cell_type": "code",
   "execution_count": 42,
   "metadata": {},
   "outputs": [
    {
     "name": "stdout",
     "output_type": "stream",
     "text": [
      "input money:100\n",
      "余额为： 9700\n"
     ]
    }
   ],
   "source": [
    "import os\n",
    "a=eval(input('input money:'))\n",
    "if a<=yu:\n",
    "    yu=yu-a\n",
    "    print(\"余额为：\",yu)\n",
    "else:\n",
    "    print(\"余额不足\")"
   ]
  },
  {
   "cell_type": "markdown",
   "metadata": {},
   "source": [
    "## 字符串的比较使用ASCII值"
   ]
  },
  {
   "cell_type": "code",
   "execution_count": 43,
   "metadata": {},
   "outputs": [
    {
     "data": {
      "text/plain": [
       "True"
      ]
     },
     "execution_count": 43,
     "metadata": {},
     "output_type": "execute_result"
    }
   ],
   "source": [
    "'a'>'A'"
   ]
  },
  {
   "cell_type": "code",
   "execution_count": 44,
   "metadata": {},
   "outputs": [
    {
     "data": {
      "text/plain": [
       "False"
      ]
     },
     "execution_count": 44,
     "metadata": {},
     "output_type": "execute_result"
    }
   ],
   "source": [
    "'abc'>'acd'"
   ]
  },
  {
   "cell_type": "markdown",
   "metadata": {},
   "source": [
    "## Markdown \n",
    "- https://github.com/younghz/Markdown"
   ]
  },
  {
   "cell_type": "markdown",
   "metadata": {},
   "source": [
    "## EP:\n",
    "- <img src=\"../Photo/34.png\"></img>\n",
    "- 输入一个数字，判断其实奇数还是偶数"
   ]
  },
  {
   "cell_type": "code",
   "execution_count": 45,
   "metadata": {},
   "outputs": [
    {
     "data": {
      "text/plain": [
       "True"
      ]
     },
     "execution_count": 45,
     "metadata": {},
     "output_type": "execute_result"
    }
   ],
   "source": [
    "bool(1.0)"
   ]
  },
  {
   "cell_type": "code",
   "execution_count": 46,
   "metadata": {},
   "outputs": [
    {
     "data": {
      "text/plain": [
       "False"
      ]
     },
     "execution_count": 46,
     "metadata": {},
     "output_type": "execute_result"
    }
   ],
   "source": [
    "bool(0.0)"
   ]
  },
  {
   "cell_type": "markdown",
   "metadata": {},
   "source": [
    "## 产生随机数字\n",
    "- 函数random.randint(a,b) 可以用来产生一个a和b之间且包括a和b的随机整数"
   ]
  },
  {
   "cell_type": "code",
   "execution_count": 47,
   "metadata": {},
   "outputs": [],
   "source": [
    "import random"
   ]
  },
  {
   "cell_type": "code",
   "execution_count": 48,
   "metadata": {},
   "outputs": [
    {
     "data": {
      "text/plain": [
       "5"
      ]
     },
     "execution_count": 48,
     "metadata": {},
     "output_type": "execute_result"
    }
   ],
   "source": [
    "random.randint(0,10)"
   ]
  },
  {
   "cell_type": "markdown",
   "metadata": {},
   "source": [
    "##  其他random方法\n",
    "- random.random 返回0.0到1.0之间前闭后开区间的随机浮点\n",
    "- random.randrange(a,b) 前闭后开"
   ]
  },
  {
   "cell_type": "code",
   "execution_count": 53,
   "metadata": {},
   "outputs": [
    {
     "data": {
      "text/plain": [
       "0.9700092005220753"
      ]
     },
     "execution_count": 53,
     "metadata": {},
     "output_type": "execute_result"
    }
   ],
   "source": [
    "random.random()"
   ]
  },
  {
   "cell_type": "code",
   "execution_count": 55,
   "metadata": {},
   "outputs": [
    {
     "data": {
      "text/plain": [
       "14"
      ]
     },
     "execution_count": 55,
     "metadata": {},
     "output_type": "execute_result"
    }
   ],
   "source": [
    "random.randrange(5,20)"
   ]
  },
  {
   "cell_type": "markdown",
   "metadata": {},
   "source": [
    "## EP：\n",
    "- 产生两个随机整数number1和number2，然后显示给用户，使用户输入数字的和，并判定其是否正确\n",
    "- 进阶:写一个随机序号点名程序"
   ]
  },
  {
   "cell_type": "code",
   "execution_count": 12,
   "metadata": {},
   "outputs": [],
   "source": [
    "import random"
   ]
  },
  {
   "cell_type": "code",
   "execution_count": 22,
   "metadata": {},
   "outputs": [
    {
     "name": "stdout",
     "output_type": "stream",
     "text": [
      "4 9\n",
      "input:4,9\n",
      "true\n"
     ]
    }
   ],
   "source": [
    "for i in range(2):\n",
    "    if i==0:\n",
    "        a=random.randrange(1,11)\n",
    "    else:\n",
    "        b=random.randrange(1,11)\n",
    "    s=a+b\n",
    "print(a,b)\n",
    "\n",
    "c,d=eval(input('input:'))\n",
    "if (c+d)==s:\n",
    "    print(\"true\")\n",
    "else:\n",
    "    print(\"false\") "
   ]
  },
  {
   "cell_type": "markdown",
   "metadata": {},
   "source": [
    "## if语句\n",
    "- 如果条件正确就执行一个单向if语句，亦即当条件为真的时候才执行if内部的语句\n",
    "- Python有很多选择语句:\n",
    "> - 单向if \n",
    "  - 双向if-else\n",
    "  - 嵌套if\n",
    "  - 多向if-elif-else\n",
    "  \n",
    "- 注意：当语句含有子语句的时候，那么一定至少要有一个缩进，也就是说如果有儿子存在，那么一定要缩进\n",
    "- 切记不可tab键和space混用，单用tab 或者 space\n",
    "- 当你输出的结果是无论if是否为真时都需要显示时，语句应该与if对齐"
   ]
  },
  {
   "cell_type": "code",
   "execution_count": 35,
   "metadata": {},
   "outputs": [
    {
     "name": "stdout",
     "output_type": "stream",
     "text": [
      "input grade:58\n",
      "不及格\n"
     ]
    }
   ],
   "source": [
    "grade=eval(input('input grade:'))\n",
    "if grade>100:\n",
    "    print(\"不存在\")\n",
    "elif grade>=90:\n",
    "    print(\"优秀\")\n",
    "elif grade>=80:\n",
    "    print(\"良好\")\n",
    "elif grade>=60:\n",
    "    print(\"及格\")\n",
    "else:\n",
    "    print(\"不及格\")"
   ]
  },
  {
   "cell_type": "markdown",
   "metadata": {},
   "source": [
    "## EP：\n",
    "- 用户输入一个数字，判断其实奇数还是偶数\n",
    "- 进阶：可以查看下4.5实例研究猜生日"
   ]
  },
  {
   "cell_type": "code",
   "execution_count": 38,
   "metadata": {},
   "outputs": [
    {
     "name": "stdout",
     "output_type": "stream",
     "text": [
      "input:8\n",
      "ou\n"
     ]
    }
   ],
   "source": [
    "a=eval(input(\"input:\"))\n",
    "if a%2==0:   \n",
    "    print(\"ou\")\n",
    "else:\n",
    "    print(\"ji\")"
   ]
  },
  {
   "cell_type": "markdown",
   "metadata": {},
   "source": [
    "## 双向if-else 语句\n",
    "- 如果条件为真，那么走if内部语句，否则走else内部语句"
   ]
  },
  {
   "cell_type": "markdown",
   "metadata": {},
   "source": [
    "## EP：\n",
    "- 产生两个随机整数number1和number2，然后显示给用户，使用户输入数字，并判定其是否正确,如果正确打印“you‘re correct”，否则打印正确错误"
   ]
  },
  {
   "cell_type": "code",
   "execution_count": 39,
   "metadata": {},
   "outputs": [
    {
     "name": "stdout",
     "output_type": "stream",
     "text": [
      "3 10\n",
      "input:3,10\n",
      "true\n"
     ]
    }
   ],
   "source": [
    "for i in range(2):\n",
    "    if i==0:\n",
    "        a=random.randrange(1,11)\n",
    "    else:\n",
    "        b=random.randrange(1,11)\n",
    "    s=a+b\n",
    "print(a,b)\n",
    "\n",
    "c,d=eval(input('input:'))\n",
    "if c==a and d==b:\n",
    "    print(\"true\")\n",
    "else:\n",
    "    print(\"false\") "
   ]
  },
  {
   "cell_type": "markdown",
   "metadata": {},
   "source": [
    "## 嵌套if 和多向if-elif-else\n",
    "![](../Photo/35.png)"
   ]
  },
  {
   "cell_type": "markdown",
   "metadata": {},
   "source": [
    "## EP：\n",
    "- 提示用户输入一个年份，然后显示表示这一年的动物\n",
    "![](../Photo/36.png)\n",
    "- 计算身体质量指数的程序\n",
    "- BMI = 以千克为单位的体重除以以米为单位的身高\n",
    "![](../Photo/37.png)"
   ]
  },
  {
   "cell_type": "code",
   "execution_count": 57,
   "metadata": {},
   "outputs": [
    {
     "name": "stdout",
     "output_type": "stream",
     "text": [
      "input:2018\n",
      "狗\n"
     ]
    }
   ],
   "source": [
    "year=eval(input('input:'))\n",
    "i=year%12\n",
    "if i==0:\n",
    "    print(\"猴\")\n",
    "else:\n",
    "    if i==2:\n",
    "        print(\"狗\")\n",
    "    else:\n",
    "        if i==3:\n",
    "            print(\"猪\")\n",
    "        else:\n",
    "            if i==4:\n",
    "                print(\"鼠\")\n",
    "            else:\n",
    "                if i==5:\n",
    "                    print(\"牛\")\n",
    "                else:\n",
    "                    if i==6:\n",
    "                        print(\"虎\")\n",
    "                    else:\n",
    "                        if i==7:\n",
    "                            print(\"兔\")\n",
    "                        else:\n",
    "                            if i==8:\n",
    "                                print(\"龙\")\n",
    "                            else:\n",
    "                                if i==9:\n",
    "                                    print(\"蛇\")\n",
    "                                else:\n",
    "                                    if i==10:\n",
    "                                        print(\"马\")\n",
    "                                    else:\n",
    "                                        if i==11:\n",
    "                                            print(\"羊\")\n",
    "    \n"
   ]
  },
  {
   "cell_type": "code",
   "execution_count": 61,
   "metadata": {},
   "outputs": [
    {
     "name": "stdout",
     "output_type": "stream",
     "text": [
      "weight:47\n",
      "high:1.53\n",
      "痴肥\n"
     ]
    }
   ],
   "source": [
    "weight=eval(input(\"weight:\"))\n",
    "high=eval(input(\"high:\"))\n",
    "bmi=weight/high\n",
    "if bmi>=30.0:\n",
    "    print(\"痴肥\")\n",
    "else:\n",
    "    if bmi>=25.0 and bmi<30.0:\n",
    "        print(\"超重\")\n",
    "    else:\n",
    "        if bmi>=18.5 and bmi<25.0:\n",
    "            print(\"标准\")\n",
    "        else:\n",
    "            if bmi<18.5:\n",
    "                print(\"超轻\")"
   ]
  },
  {
   "cell_type": "markdown",
   "metadata": {},
   "source": [
    "## 逻辑运算符\n",
    "![](../Photo/38.png)"
   ]
  },
  {
   "cell_type": "markdown",
   "metadata": {},
   "source": [
    "![](../Photo/39.png)\n",
    "![](../Photo/40.png)"
   ]
  },
  {
   "cell_type": "markdown",
   "metadata": {},
   "source": [
    "## EP：\n",
    "- 判定闰年：一个年份如果能被4整除但不能被100整除，或者能被400整除，那么这个年份就是闰年\n",
    "- 提示用户输入一个年份，并返回是否是闰年\n",
    "- 提示用户输入一个数字，判断其是否为水仙花数"
   ]
  },
  {
   "cell_type": "code",
   "execution_count": 63,
   "metadata": {},
   "outputs": [
    {
     "name": "stdout",
     "output_type": "stream",
     "text": [
      "input year:44\n",
      "闰年\n"
     ]
    }
   ],
   "source": [
    "year=eval(input('input year:'))\n",
    "if (year%4==0 and year%100!=0) or year%400==0:\n",
    "    print(\"闰年\")\n",
    "else:\n",
    "    print(\"不是闰年\")"
   ]
  },
  {
   "cell_type": "code",
   "execution_count": 32,
   "metadata": {},
   "outputs": [
    {
     "name": "stdout",
     "output_type": "stream",
     "text": [
      "input a:407\n",
      "yes\n"
     ]
    }
   ],
   "source": [
    "a=int(input(\"input a:\"))\n",
    "a1=int(a/100)\n",
    "a2=int(a%100/10)\n",
    "a3=int(a%10)\n",
    "if a==(a1**3)+(a2**3)+(a3**3):\n",
    "    print(\"yes\")\n",
    "else:\n",
    "    print(\"not\")"
   ]
  },
  {
   "cell_type": "code",
   "execution_count": 31,
   "metadata": {},
   "outputs": [
    {
     "name": "stdout",
     "output_type": "stream",
     "text": [
      "153\n",
      "370\n",
      "371\n",
      "407\n"
     ]
    }
   ],
   "source": [
    "for a in range(100,1000):\n",
    "    a1=int(a/100)\n",
    "    a2=int(a%100/10)\n",
    "    a3=int(a%10)\n",
    "    if a==(a1**3)+(a2**3)+(a3**3):\n",
    "        print(a)"
   ]
  },
  {
   "cell_type": "code",
   "execution_count": 33,
   "metadata": {},
   "outputs": [
    {
     "name": "stdout",
     "output_type": "stream",
     "text": [
      "input a:371\n",
      "yes\n"
     ]
    }
   ],
   "source": [
    "import math\n",
    "a=int(input(\"input a:\"))\n",
    "str_a=str(a)\n",
    "a1=int(str_a[0])\n",
    "a2=int(str_a[1])\n",
    "a3=int(str_a[2])\n",
    "if a==math.pow(a1,3)+math.pow(a2,3)+math.pow(a3,3):\n",
    "    print(\"yes\")\n",
    "else:\n",
    "    print(\"not\")"
   ]
  },
  {
   "cell_type": "markdown",
   "metadata": {},
   "source": [
    "## 实例研究：彩票\n",
    "![](../Photo/41.png)"
   ]
  },
  {
   "cell_type": "code",
   "execution_count": 19,
   "metadata": {},
   "outputs": [
    {
     "name": "stdout",
     "output_type": "stream",
     "text": [
      "63\n",
      "input d:36\n",
      "3000\n"
     ]
    }
   ],
   "source": [
    "import random\n",
    "a=random.randrange(10,100)\n",
    "print(a)\n",
    "a1=int(a/10)\n",
    "a2=a%10\n",
    "b=eval(input(\"input d:\"))\n",
    "b1=int(b/10)\n",
    "b2=b%10\n",
    "if b==a:\n",
    "    print(\"10000\")\n",
    "else:\n",
    "    if b1==a2 and b2==a1:\n",
    "        print(\"3000\")\n",
    "    else:\n",
    "        if b1==a1 or b2==a2:\n",
    "            print(\"1000\")"
   ]
  },
  {
   "cell_type": "markdown",
   "metadata": {},
   "source": [
    "# Homework\n",
    "- 1\n",
    "![](../Photo/42.png)"
   ]
  },
  {
   "cell_type": "code",
   "execution_count": 51,
   "metadata": {},
   "outputs": [
    {
     "name": "stdout",
     "output_type": "stream",
     "text": [
      "input a,b,c:1.0,3,1\n",
      "-0.381966 -2.61803\n"
     ]
    }
   ],
   "source": [
    "import math\n",
    "a,b,c=eval(input(\"input a,b,c:\"))\n",
    "m=b*b-4*a*c\n",
    "if m>0: \n",
    "    r1=(-b+math.sqrt(m))/(2*a)\n",
    "    r2=(-b-math.sqrt(m))/(2*a)\n",
    "    print(round(r1,6),round(r2,5))\n",
    "else:\n",
    "    if m==0:\n",
    "        r1=(-b+math.sqrt(m))/(2*a)\n",
    "        print(r1)\n",
    "    else:\n",
    "        print(\"not roots\")"
   ]
  },
  {
   "cell_type": "markdown",
   "metadata": {},
   "source": [
    "- 2\n",
    "![](../Photo/43.png)"
   ]
  },
  {
   "cell_type": "code",
   "execution_count": 53,
   "metadata": {},
   "outputs": [
    {
     "name": "stdout",
     "output_type": "stream",
     "text": [
      "69 76\n",
      "input b:145\n",
      "yes\n"
     ]
    }
   ],
   "source": [
    "for i in range(0,2):\n",
    "    a1=random.randint(0,100)\n",
    "    a2=random.randint(0,100)\n",
    "print(a1,a2)\n",
    "s=a1+a2\n",
    "b=eval(input('input b:'))\n",
    "if b==s:\n",
    "    print(\"yes\")\n",
    "else:\n",
    "    print(\"not\")"
   ]
  },
  {
   "cell_type": "markdown",
   "metadata": {},
   "source": [
    "- 3\n",
    "![](../Photo/44.png)"
   ]
  },
  {
   "cell_type": "code",
   "execution_count": 64,
   "metadata": {},
   "outputs": [
    {
     "name": "stdout",
     "output_type": "stream",
     "text": [
      "today is day:0\n",
      "numbers days:31\n",
      "today is Sun and the future day is Wed\n"
     ]
    }
   ],
   "source": [
    "a=eval(input(\"today is day:\"))\n",
    "b=eval(input(\"numbers days:\"))\n",
    "c=(a+b%7)%7\n",
    "week=['Sun','Mon','Tue','Wed','Thu','Fri','Sat']\n",
    "print(\"today is\",week[a],\"and the future day is\",week[c])"
   ]
  },
  {
   "cell_type": "markdown",
   "metadata": {},
   "source": [
    "- 4\n",
    "![](../Photo/45.png)"
   ]
  },
  {
   "cell_type": "code",
   "execution_count": 71,
   "metadata": {},
   "outputs": [
    {
     "name": "stdout",
     "output_type": "stream",
     "text": [
      "input a,b,c:4,2,5\n",
      "2 4 5\n"
     ]
    }
   ],
   "source": [
    "import re\n",
    "a,b,c=eval(input(\"input a,b,c:\"))\n",
    "m=max(a,b,c)\n",
    "s=min(a,b,c)\n",
    "print(s,a+b+c-m-s,m)"
   ]
  },
  {
   "cell_type": "markdown",
   "metadata": {},
   "source": [
    "- 5\n",
    "![](../Photo/46.png)"
   ]
  },
  {
   "cell_type": "code",
   "execution_count": 2,
   "metadata": {},
   "outputs": [
    {
     "name": "stdout",
     "output_type": "stream",
     "text": [
      "input a1,a2:50,100\n",
      "input b1,b2:25,45\n",
      "2\n"
     ]
    }
   ],
   "source": [
    "\n",
    "a1,a2=eval(input('input a1,a2:'))\n",
    "b1,b2=eval(input('input b1,b2:'))\n",
    "m1=a2/a1\n",
    "m2=b2/b1\n",
    "if m1>m2:\n",
    "    print(\"2\")\n",
    "else:\n",
    "    print(\"1\")"
   ]
  },
  {
   "cell_type": "markdown",
   "metadata": {},
   "source": [
    "- 6\n",
    "![](../Photo/47.png)"
   ]
  },
  {
   "cell_type": "code",
   "execution_count": 45,
   "metadata": {},
   "outputs": [
    {
     "name": "stdout",
     "output_type": "stream",
     "text": [
      "input month,year:4,2000\n",
      "2000 30\n"
     ]
    }
   ],
   "source": [
    "month,year=eval(input(\"input month,year:\"))\n",
    "if ((year%4==0 and year%100!=0) or year%400==0) and month==2:\n",
    "    day=29\n",
    "    print(year,day)\n",
    "else:\n",
    "    if month==2:\n",
    "        day=28\n",
    "        print(year,day)\n",
    "    else:\n",
    "        if month==1 or month==3 or month==5 or month==7 or month==8 or month==10 or month==12:\n",
    "            day=31\n",
    "            print(year,day)\n",
    "        else:\n",
    "            day=30\n",
    "            print(year,day)"
   ]
  },
  {
   "cell_type": "markdown",
   "metadata": {},
   "source": [
    "- 7\n",
    "![](../Photo/48.png)"
   ]
  },
  {
   "cell_type": "code",
   "execution_count": 4,
   "metadata": {},
   "outputs": [
    {
     "name": "stdout",
     "output_type": "stream",
     "text": [
      "input think:1\n",
      "false\n"
     ]
    }
   ],
   "source": [
    "import random\n",
    "a=random.randint(0,2)\n",
    "b=eval(input('input think:'))\n",
    "if b==a:\n",
    "    print(\"true\")\n",
    "else:\n",
    "    print(\"false\")"
   ]
  },
  {
   "cell_type": "markdown",
   "metadata": {},
   "source": [
    "- 8\n",
    "![](../Photo/49.png)"
   ]
  },
  {
   "cell_type": "code",
   "execution_count": 4,
   "metadata": {},
   "outputs": [
    {
     "name": "stdout",
     "output_type": "stream",
     "text": [
      "input 0、1或2:1\n",
      "1\n",
      "pingju\n"
     ]
    }
   ],
   "source": [
    "import random\n",
    "a=eval(input('input 0、1或2:'))\n",
    "b=random.randint(0,3)\n",
    "print(b)\n",
    "if (a==0 and b==2) or (a==1 and b==0) or (a==2 and b==1):\n",
    "    print(\"win\")\n",
    "else:\n",
    "    if a==b:\n",
    "        print(\"pingju\")\n",
    "    else:\n",
    "        print(\"lose\")"
   ]
  },
  {
   "cell_type": "markdown",
   "metadata": {},
   "source": [
    "- 9\n",
    "![](../Photo/50.png)"
   ]
  },
  {
   "cell_type": "code",
   "execution_count": 7,
   "metadata": {},
   "outputs": [
    {
     "name": "stdout",
     "output_type": "stream",
     "text": [
      "input year:2013\n",
      "input month:1\n",
      "input day:25\n",
      "Fri\n"
     ]
    }
   ],
   "source": [
    "year=eval(input(\"input year:\"))\n",
    "month=eval(input(\"input month:\"))\n",
    "day=eval(input(\"input day:\"))\n",
    "q=day\n",
    "m=month\n",
    "if month==1:\n",
    "    month=13\n",
    "if month==2:\n",
    "    month=14\n",
    "j=year/100\n",
    "k=year%100\n",
    "h=int((q+(26*(m+1)/10)+k+k/4+j/4+5*j)%7)\n",
    "week=['Sun','Mon','Tue','Wed','Thu','Fri','Sat']\n",
    "print(week[h])"
   ]
  },
  {
   "cell_type": "markdown",
   "metadata": {},
   "source": [
    "- 10\n",
    "![](../Photo/51.png)"
   ]
  },
  {
   "cell_type": "code",
   "execution_count": 26,
   "metadata": {},
   "outputs": [
    {
     "name": "stdout",
     "output_type": "stream",
     "text": [
      "Ace 红桃\n"
     ]
    }
   ],
   "source": [
    "puke=['Ace','2','3','4','5','6','7','8','9','10','Jack','Queen','King']\n",
    "type=['梅花','红桃','方块','黑桃']\n",
    "a=int(random.randint(0,14))\n",
    "b=int(random.randint(0,5))\n",
    "print(puke[int(a)],type[int(b)])"
   ]
  },
  {
   "cell_type": "markdown",
   "metadata": {},
   "source": [
    "- 11\n",
    "![](../Photo/52.png)"
   ]
  },
  {
   "cell_type": "code",
   "execution_count": 33,
   "metadata": {},
   "outputs": [
    {
     "name": "stdout",
     "output_type": "stream",
     "text": [
      "input:232\n",
      "回文\n"
     ]
    }
   ],
   "source": [
    "a=eval(input(\"input:\"))\n",
    "bai=a//100\n",
    "ge=a%10\n",
    "if bai==ge:\n",
    "    print(\"回文\")\n",
    "else:\n",
    "    print(\"不是回文\")"
   ]
  },
  {
   "cell_type": "markdown",
   "metadata": {},
   "source": [
    "- 12\n",
    "![](../Photo/53.png)"
   ]
  },
  {
   "cell_type": "code",
   "execution_count": 36,
   "metadata": {},
   "outputs": [
    {
     "name": "stdout",
     "output_type": "stream",
     "text": [
      "input a,b,c:1,2,3\n",
      "不合法\n"
     ]
    }
   ],
   "source": [
    "a,b,c=eval(input(\"input a,b,c:\"))\n",
    "if (a+b>c) and (a+c>b) and (b+c>a):\n",
    "    l=a+b+c\n",
    "    print(\"周长：\",l)\n",
    "else:\n",
    "    print(\"不合法\")"
   ]
  }
 ],
 "metadata": {
  "kernelspec": {
   "display_name": "Python 3",
   "language": "python",
   "name": "python3"
  },
  "language_info": {
   "codemirror_mode": {
    "name": "ipython",
    "version": 3
   },
   "file_extension": ".py",
   "mimetype": "text/x-python",
   "name": "python",
   "nbconvert_exporter": "python",
   "pygments_lexer": "ipython3",
   "version": "3.6.4"
  }
 },
 "nbformat": 4,
 "nbformat_minor": 2
}
