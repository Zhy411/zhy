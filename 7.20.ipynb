{
 "cells": [
  {
   "cell_type": "markdown",
   "metadata": {},
   "source": [
    "# 函数\n",
    "\n",
    "- 函数可以用来定义可重复代码，组织和简化\n",
    "- 一般来说一个函数在实际开发中为一个小功能\n",
    "- 一个类为一个大功能\n",
    "- 同样函数的长度不要超过一屏"
   ]
  },
  {
   "cell_type": "code",
   "execution_count": null,
   "metadata": {},
   "outputs": [],
   "source": [
    "#pep8代码规范"
   ]
  },
  {
   "cell_type": "code",
   "execution_count": null,
   "metadata": {},
   "outputs": [],
   "source": [
    "#函数定义\n",
    "def a():\n",
    "    pass        "
   ]
  },
  {
   "cell_type": "code",
   "execution_count": 2,
   "metadata": {},
   "outputs": [],
   "source": [
    "def a():\n",
    "    '''\n",
    "    wwwwwwwwwwwwwwww\n",
    "    eeeeeeeeeeeeeeeee\n",
    "        print----->打印\n",
    "    '''\n",
    "    print('qqqq')"
   ]
  },
  {
   "cell_type": "code",
   "execution_count": 7,
   "metadata": {},
   "outputs": [
    {
     "name": "stdout",
     "output_type": "stream",
     "text": [
      "qqqq\n"
     ]
    }
   ],
   "source": [
    "a()    #函数调用"
   ]
  },
  {
   "cell_type": "code",
   "execution_count": 16,
   "metadata": {},
   "outputs": [],
   "source": [
    "def a(n,m,j):            #有默认参数时，一定放到最后一位\n",
    "    '''\n",
    "    wwwwwwwwwwwwwwww\n",
    "    eeeeeeeeeeeeeeeee\n",
    "        print----->打印\n",
    "    '''\n",
    "    print('qqqq{},{},{}'.format(n,m,j))"
   ]
  },
  {
   "cell_type": "code",
   "execution_count": 17,
   "metadata": {},
   "outputs": [
    {
     "name": "stdout",
     "output_type": "stream",
     "text": [
      "qqqqd,f,g\n"
     ]
    }
   ],
   "source": [
    "a('d','f','g')"
   ]
  },
  {
   "cell_type": "code",
   "execution_count": 21,
   "metadata": {},
   "outputs": [],
   "source": [
    "def a_fun(a):\n",
    "    if a%2==0:\n",
    "        print(\"ou\")\n",
    "    else:\n",
    "        print('ji')\n"
   ]
  },
  {
   "cell_type": "code",
   "execution_count": 22,
   "metadata": {},
   "outputs": [
    {
     "name": "stdout",
     "output_type": "stream",
     "text": [
      ">>4\n",
      "ou\n"
     ]
    }
   ],
   "source": [
    "a_fun(int(input('>>')))   #或 a=int(input('>>'))"
   ]
  },
  {
   "cell_type": "code",
   "execution_count": 28,
   "metadata": {},
   "outputs": [],
   "source": [
    "def a_fun(m,is_print=True):\n",
    "    if m%2==0:\n",
    "        if is_print:\n",
    "            print(\"ou\")\n",
    "        "
   ]
  },
  {
   "cell_type": "code",
   "execution_count": 31,
   "metadata": {},
   "outputs": [
    {
     "name": "stdout",
     "output_type": "stream",
     "text": [
      ">>4\n",
      "ou\n"
     ]
    }
   ],
   "source": [
    "m=int(input('>>'))\n",
    "a_fun(m=m,is_print=True) "
   ]
  },
  {
   "cell_type": "code",
   "execution_count": 32,
   "metadata": {},
   "outputs": [],
   "source": [
    "def func1(name):\n",
    "    print(name,end=':')\n",
    "    func2()\n",
    "    \n",
    "def func2():\n",
    "    print('qqq')"
   ]
  },
  {
   "cell_type": "code",
   "execution_count": 33,
   "metadata": {},
   "outputs": [
    {
     "name": "stdout",
     "output_type": "stream",
     "text": [
      "aa:qqq\n"
     ]
    }
   ],
   "source": [
    "func1('aa')"
   ]
  },
  {
   "cell_type": "code",
   "execution_count": 72,
   "metadata": {},
   "outputs": [],
   "source": [
    "def func1(ou,ji):\n",
    "    if ou%2==0:\n",
    "        print(ou,end=\":\")\n",
    "        func3()\n",
    "    else:\n",
    "        print(ji,end=':')\n",
    "        func4()\n",
    "    \n",
    "\n",
    "    \n",
    "def func3():\n",
    "    print('oushu')\n",
    "    \n",
    "def func4():\n",
    "    print('jishu')"
   ]
  },
  {
   "cell_type": "code",
   "execution_count": 69,
   "metadata": {},
   "outputs": [
    {
     "name": "stdout",
     "output_type": "stream",
     "text": [
      ">>3\n",
      ">>4\n",
      "4:jishu\n"
     ]
    }
   ],
   "source": [
    "ou=int(input('>>'))\n",
    "ji=int(input('>>'))\n",
    "func1(ou,ji)\n"
   ]
  },
  {
   "cell_type": "code",
   "execution_count": 75,
   "metadata": {},
   "outputs": [],
   "source": [
    "import hashlib\n",
    "#-----数据库密码------\n",
    "data='huhuhu'\n",
    "hash_md5=hashlib.md5(data.encode())\n",
    "init_passwd=hash_md5.hexdigest()\n",
    "\n",
    "#------ajax登录的明文密码-------\n",
    "def passwd(passw):\n",
    "    md5(passw)      #进行md5摘要    调用下面的函数\n",
    "\n",
    "def md5(passw):\n",
    "    hash_md5=hashlib.md5(data.encode())\n",
    "    input_passwd=hash_md5.hexdigest()   #输入的md5摘要密码\n",
    "    if init_passwd==input_passwd:\n",
    "        result('OK')\n",
    "    else:\n",
    "        result('Faild')\n",
    "\n",
    "def result(res):\n",
    "    print(res)"
   ]
  },
  {
   "cell_type": "code",
   "execution_count": 76,
   "metadata": {},
   "outputs": [
    {
     "name": "stdout",
     "output_type": "stream",
     "text": [
      "OK\n"
     ]
    }
   ],
   "source": [
    "passwd('aaaa')"
   ]
  },
  {
   "cell_type": "code",
   "execution_count": 78,
   "metadata": {},
   "outputs": [],
   "source": [
    "def a_fun():\n",
    "    return 'aaaaaaa'"
   ]
  },
  {
   "cell_type": "code",
   "execution_count": 79,
   "metadata": {},
   "outputs": [
    {
     "name": "stdout",
     "output_type": "stream",
     "text": [
      "aaaaaaa\n"
     ]
    }
   ],
   "source": [
    "a=a_fun()\n",
    "print(a)"
   ]
  },
  {
   "cell_type": "markdown",
   "metadata": {},
   "source": [
    "## 定义一个函数\n",
    "\n",
    "def function_name(list of parameters):\n",
    "    \n",
    "    do something\n",
    "![](../Photo/69.png)\n",
    "- 以前使用的random 或者range 或者print.. 其实都是函数或者类"
   ]
  },
  {
   "cell_type": "markdown",
   "metadata": {},
   "source": [
    "## 调用一个函数\n",
    "- functionName()\n",
    "- \"()\" 就代表调用"
   ]
  },
  {
   "cell_type": "markdown",
   "metadata": {},
   "source": [
    "![](../Photo/70.png)"
   ]
  },
  {
   "cell_type": "markdown",
   "metadata": {},
   "source": [
    "## 带返回值和不带返回值的函数\n",
    "- return 返回的内容\n",
    "- return 返回多个值\n",
    "- 一般情况下，在多个函数协同完成一个功能的时候，那么将会有返回值"
   ]
  },
  {
   "cell_type": "markdown",
   "metadata": {},
   "source": [
    "![](../Photo/71.png)\n",
    "\n",
    "- 当然也可以自定义返回None"
   ]
  },
  {
   "cell_type": "markdown",
   "metadata": {},
   "source": [
    "## EP：\n",
    "![](../Photo/72.png)"
   ]
  },
  {
   "cell_type": "markdown",
   "metadata": {},
   "source": [
    "## 类型和关键字参数\n",
    "- 普通参数\n",
    "- 多个参数\n",
    "- 默认值参数\n",
    "- 不定长参数"
   ]
  },
  {
   "cell_type": "markdown",
   "metadata": {},
   "source": [
    "## 普通参数"
   ]
  },
  {
   "cell_type": "markdown",
   "metadata": {},
   "source": [
    "## 多个参数"
   ]
  },
  {
   "cell_type": "markdown",
   "metadata": {},
   "source": [
    "## 默认值参数"
   ]
  },
  {
   "cell_type": "markdown",
   "metadata": {},
   "source": [
    "## 强制命名"
   ]
  },
  {
   "cell_type": "code",
   "execution_count": null,
   "metadata": {},
   "outputs": [],
   "source": [
    "#*强制命名参数"
   ]
  },
  {
   "cell_type": "markdown",
   "metadata": {},
   "source": [
    "## 不定长参数\n",
    "- \\*args\n",
    "> - 不定长，来多少装多少，不装也是可以的\n",
    "  - 返回的数据类型是元组\n",
    "  - args 名字是可以修改的，只是我们约定俗成的是args\n",
    "- \\**kwargs \n",
    "> - 返回的字典\n",
    "  - 输入的一定要是表达式（键值对）"
   ]
  },
  {
   "cell_type": "code",
   "execution_count": 121,
   "metadata": {},
   "outputs": [],
   "source": [
    "def test(*args):     #*加变量名 args可以是其他\n",
    "    print(args)"
   ]
  },
  {
   "cell_type": "code",
   "execution_count": 122,
   "metadata": {},
   "outputs": [
    {
     "name": "stdout",
     "output_type": "stream",
     "text": [
      "(1, 2)\n"
     ]
    }
   ],
   "source": [
    "test(1,2)"
   ]
  },
  {
   "cell_type": "code",
   "execution_count": 131,
   "metadata": {},
   "outputs": [],
   "source": [
    "def test(*args,name):\n",
    "    print(args,name)"
   ]
  },
  {
   "cell_type": "code",
   "execution_count": 134,
   "metadata": {},
   "outputs": [
    {
     "name": "stdout",
     "output_type": "stream",
     "text": [
      "(1, 2, 3, 4, 5, 6, 7, 8, 9) qq\n"
     ]
    }
   ],
   "source": [
    "test(1,2,3,4,5,6,7,8,9,name='qq')"
   ]
  },
  {
   "cell_type": "code",
   "execution_count": 146,
   "metadata": {},
   "outputs": [],
   "source": [
    "def test(name1,*args,name2):\n",
    "    print(name1,args,name2)"
   ]
  },
  {
   "cell_type": "code",
   "execution_count": 148,
   "metadata": {},
   "outputs": [
    {
     "name": "stdout",
     "output_type": "stream",
     "text": [
      "1 (2, 3, 4, 5, 6, 7, 8, 9) q\n"
     ]
    }
   ],
   "source": [
    "test(1,2,3,4,5,6,7,8,9,name2='q')"
   ]
  },
  {
   "cell_type": "code",
   "execution_count": 149,
   "metadata": {},
   "outputs": [],
   "source": [
    "def t(*args,**kwargs):        #*args返回元组，kwargs返回字典\n",
    "    print(args)\n",
    "    print(kwargs)"
   ]
  },
  {
   "cell_type": "code",
   "execution_count": 150,
   "metadata": {},
   "outputs": [
    {
     "name": "stdout",
     "output_type": "stream",
     "text": [
      "(1, 2, 3, 4, 5, 'a')\n",
      "{'b': 1000}\n"
     ]
    }
   ],
   "source": [
    "t(1,2,3,4,5,'a',b=1000)"
   ]
  },
  {
   "cell_type": "markdown",
   "metadata": {},
   "source": [
    "## 变量的作用域\n",
    "- 局部变量 local\n",
    "- 全局变量 global\n",
    "- globals 函数返回一个全局变量的字典，包括所有导入的变量\n",
    "- locals() 函数会以字典类型返回当前位置的全部局部变量。"
   ]
  },
  {
   "cell_type": "code",
   "execution_count": 168,
   "metadata": {},
   "outputs": [],
   "source": [
    "a=1000     #\n",
    "def t1():\n",
    "    a=0\n",
    "    print(a)"
   ]
  },
  {
   "cell_type": "code",
   "execution_count": 169,
   "metadata": {},
   "outputs": [
    {
     "name": "stdout",
     "output_type": "stream",
     "text": [
      "0\n",
      "1000\n"
     ]
    }
   ],
   "source": [
    "t1()\n",
    "print(a)"
   ]
  },
  {
   "cell_type": "code",
   "execution_count": 170,
   "metadata": {},
   "outputs": [],
   "source": [
    "b=[]\n",
    "def t2():\n",
    "    b.append(100)\n",
    "    print(b)"
   ]
  },
  {
   "cell_type": "code",
   "execution_count": 171,
   "metadata": {},
   "outputs": [
    {
     "name": "stdout",
     "output_type": "stream",
     "text": [
      "[100]\n",
      "[100]\n"
     ]
    }
   ],
   "source": [
    "t2()\n",
    "print(b)"
   ]
  },
  {
   "cell_type": "code",
   "execution_count": 172,
   "metadata": {},
   "outputs": [],
   "source": [
    "b=[]\n",
    "def t2():\n",
    "    global b\n",
    "    b=100\n",
    "    print(b)"
   ]
  },
  {
   "cell_type": "code",
   "execution_count": 173,
   "metadata": {},
   "outputs": [
    {
     "name": "stdout",
     "output_type": "stream",
     "text": [
      "100\n",
      "100\n"
     ]
    }
   ],
   "source": [
    "t2()\n",
    "print(b)"
   ]
  },
  {
   "cell_type": "markdown",
   "metadata": {},
   "source": [
    "## 注意：\n",
    "- global ：在进行赋值操作的时候需要声明\n",
    "- 官方解释：This is because when you make an assignment to a variable in a scope, that variable becomes local to that scope and shadows any similarly named variable in the outer scope.\n",
    "- ![](../Photo/73.png)"
   ]
  },
  {
   "cell_type": "markdown",
   "metadata": {},
   "source": [
    "# Homework\n",
    "- 1\n",
    "![](../Photo/74.png)"
   ]
  },
  {
   "cell_type": "code",
   "execution_count": 114,
   "metadata": {},
   "outputs": [],
   "source": [
    "def getPentagonalNumber(n):\n",
    "    i=0\n",
    "    for n in range(1,101):\n",
    "        if n*(3*n-1)%2==0:\n",
    "            q=int(n*(3*n-1)/2)\n",
    "            print(q,end=' ')\n",
    "            i+=1\n",
    "            if i%10==0:\n",
    "                print('')\n",
    "            \n",
    "            "
   ]
  },
  {
   "cell_type": "code",
   "execution_count": 115,
   "metadata": {},
   "outputs": [
    {
     "name": "stdout",
     "output_type": "stream",
     "text": [
      "1 5 12 22 35 51 70 92 117 145 \n",
      "176 210 247 287 330 376 425 477 532 590 \n",
      "651 715 782 852 925 1001 1080 1162 1247 1335 \n",
      "1426 1520 1617 1717 1820 1926 2035 2147 2262 2380 \n",
      "2501 2625 2752 2882 3015 3151 3290 3432 3577 3725 \n",
      "3876 4030 4187 4347 4510 4676 4845 5017 5192 5370 \n",
      "5551 5735 5922 6112 6305 6501 6700 6902 7107 7315 \n",
      "7526 7740 7957 8177 8400 8626 8855 9087 9322 9560 \n",
      "9801 10045 10292 10542 10795 11051 11310 11572 11837 12105 \n",
      "12376 12650 12927 13207 13490 13776 14065 14357 14652 14950 \n"
     ]
    }
   ],
   "source": [
    "getPentagonalNumber(n)"
   ]
  },
  {
   "cell_type": "markdown",
   "metadata": {},
   "source": [
    "- 2 \n",
    "![](../Photo/75.png)"
   ]
  },
  {
   "cell_type": "code",
   "execution_count": 47,
   "metadata": {},
   "outputs": [],
   "source": [
    "def sumDigits(n):\n",
    "    s=0\n",
    "    while n!=0:\n",
    "        s+= n%10\n",
    "        n=n/10\n",
    "    print(int(s))"
   ]
  },
  {
   "cell_type": "code",
   "execution_count": 51,
   "metadata": {},
   "outputs": [
    {
     "name": "stdout",
     "output_type": "stream",
     "text": [
      ">>234\n",
      "9\n"
     ]
    }
   ],
   "source": [
    "n=eval(input('>>'))\n",
    "sumDigits(n)"
   ]
  },
  {
   "cell_type": "markdown",
   "metadata": {},
   "source": [
    "- 3\n",
    "![](../Photo/76.png)"
   ]
  },
  {
   "cell_type": "code",
   "execution_count": 220,
   "metadata": {},
   "outputs": [],
   "source": [
    "import re\n",
    "def paixu(n1,n2,n3):\n",
    "        m=max(n1,n2,n3)\n",
    "        s=min(n1,n2,n3)\n",
    "        print(s,n1+n2+n3-m-s,m)"
   ]
  },
  {
   "cell_type": "code",
   "execution_count": 221,
   "metadata": {},
   "outputs": [
    {
     "name": "stdout",
     "output_type": "stream",
     "text": [
      ">>3,5,2\n",
      "2 3 5\n"
     ]
    }
   ],
   "source": [
    "n1,n2,n3=eval(input('>>'))\n",
    "paixu(n1,n2,n3)"
   ]
  },
  {
   "cell_type": "markdown",
   "metadata": {},
   "source": [
    "- 4\n",
    "![](../Photo/77.png)"
   ]
  },
  {
   "cell_type": "code",
   "execution_count": null,
   "metadata": {},
   "outputs": [],
   "source": [
    "def future(amount,month,year):\n",
    "    "
   ]
  },
  {
   "cell_type": "markdown",
   "metadata": {},
   "source": [
    "- 5\n",
    "![](../Photo/78.png)"
   ]
  },
  {
   "cell_type": "code",
   "execution_count": 230,
   "metadata": {
    "scrolled": true
   },
   "outputs": [
    {
     "name": "stdout",
     "output_type": "stream",
     "text": [
      "49\n"
     ]
    }
   ],
   "source": [
    "b='1'\n",
    "print(ord(b))"
   ]
  },
  {
   "cell_type": "code",
   "execution_count": 231,
   "metadata": {},
   "outputs": [
    {
     "name": "stdout",
     "output_type": "stream",
     "text": [
      "90\n"
     ]
    }
   ],
   "source": [
    "b='Z'\n",
    "print(ord(b))"
   ]
  },
  {
   "cell_type": "code",
   "execution_count": 21,
   "metadata": {},
   "outputs": [],
   "source": [
    "def chars(ch1,ch2,n):\n",
    "    j=0\n",
    "    for i in range(ord(ch1),ord(ch2)+1):\n",
    "        print(chr(i),end=' ')\n",
    "        j+=1\n",
    "        if j%n==0:\n",
    "            print(\"\")"
   ]
  },
  {
   "cell_type": "code",
   "execution_count": 22,
   "metadata": {},
   "outputs": [
    {
     "name": "stdout",
     "output_type": "stream",
     "text": [
      ">>'1','Z',10\n",
      "1 2 3 4 5 6 7 8 9 : \n",
      "; < = > ? @ A B C D \n",
      "E F G H I J K L M N \n",
      "O P Q R S T U V W X \n",
      "Y Z "
     ]
    }
   ],
   "source": [
    "ch1,ch2,n=eval(input('>>'))\n",
    "chars(ch1,ch2,n)"
   ]
  },
  {
   "cell_type": "markdown",
   "metadata": {},
   "source": [
    "- 6\n",
    "![](../Photo/79.png)"
   ]
  },
  {
   "cell_type": "code",
   "execution_count": 25,
   "metadata": {},
   "outputs": [],
   "source": [
    "def days(year):\n",
    "    if (year%4==0 and year%100!=0) or year%400==0:\n",
    "        print(year,\"is 366\")\n",
    "    else:\n",
    "        print(year,\"is 365\")"
   ]
  },
  {
   "cell_type": "code",
   "execution_count": null,
   "metadata": {},
   "outputs": [
    {
     "name": "stdout",
     "output_type": "stream",
     "text": [
      ">>2010\n",
      "2010 is 365\n",
      ">>2011\n",
      "2011 is 365\n",
      ">>2012\n",
      "2012 is 366\n"
     ]
    }
   ],
   "source": [
    "while True:\n",
    "    year=eval(input('>>'))\n",
    "    days(year)"
   ]
  },
  {
   "cell_type": "markdown",
   "metadata": {},
   "source": [
    "- 7\n",
    "![](../Photo/80.png)"
   ]
  },
  {
   "cell_type": "code",
   "execution_count": 19,
   "metadata": {},
   "outputs": [],
   "source": [
    "import math\n",
    "def dis(x1,y1,x2,y2):\n",
    "    t1=(x1-x2)**2\n",
    "    t2=(y1-y2)**2\n",
    "    s=math.sqrt(t1+t2)\n",
    "    print(s)"
   ]
  },
  {
   "cell_type": "code",
   "execution_count": 20,
   "metadata": {},
   "outputs": [
    {
     "name": "stdout",
     "output_type": "stream",
     "text": [
      ">>1,2,3,4\n",
      "2.8284271247461903\n"
     ]
    }
   ],
   "source": [
    "x1,y1,x2,y2=eval(input('>>'))\n",
    "dis(x1,y1,x2,y2)"
   ]
  },
  {
   "cell_type": "markdown",
   "metadata": {},
   "source": [
    "- 8\n",
    "![](../Photo/81.png)"
   ]
  },
  {
   "cell_type": "code",
   "execution_count": 25,
   "metadata": {},
   "outputs": [],
   "source": [
    "def sushu(p):\n",
    "    for p in range (2,31):\n",
    "        if p==2:\n",
    "            s=2**p-1\n",
    "            print(p,'    ',s)\n",
    "        for j in range(2,p):\n",
    "            if p%j==0:\n",
    "                break\n",
    "            else:\n",
    "                if j==p-1:\n",
    "                    s=2**p-1\n",
    "                    print(p,'    ',s)"
   ]
  },
  {
   "cell_type": "code",
   "execution_count": 26,
   "metadata": {},
   "outputs": [
    {
     "name": "stdout",
     "output_type": "stream",
     "text": [
      "p      2^p-1\n",
      "\n",
      "2      3\n",
      "3      7\n",
      "5      31\n",
      "7      127\n",
      "11      2047\n",
      "13      8191\n",
      "17      131071\n",
      "19      524287\n",
      "23      8388607\n",
      "29      536870911\n"
     ]
    }
   ],
   "source": [
    "print(\"p      2^p-1\\n\")\n",
    "p=2\n",
    "sushu(p)"
   ]
  },
  {
   "cell_type": "markdown",
   "metadata": {},
   "source": [
    "- 9\n",
    "![](../Photo/82.png)\n",
    "![](../Photo/83.png)"
   ]
  },
  {
   "cell_type": "code",
   "execution_count": 31,
   "metadata": {},
   "outputs": [
    {
     "name": "stdout",
     "output_type": "stream",
     "text": [
      "Current date and time is Aug 31,2018 18:59:04\n"
     ]
    }
   ],
   "source": [
    "import time\n",
    "print(\"Current date and time is\",time.strftime(\"%b %d,%Y %H:%M:%S\"))"
   ]
  },
  {
   "cell_type": "markdown",
   "metadata": {},
   "source": [
    "- 10\n",
    "![](../Photo/84.png)"
   ]
  },
  {
   "cell_type": "code",
   "execution_count": 205,
   "metadata": {},
   "outputs": [],
   "source": [
    "import random\n",
    "def game():\n",
    "    a=random.randint(1,6)\n",
    "    b=random.randint(1,6)\n",
    "    c=a+b\n",
    "    print(\"you rolled\",a,\"+\",b,\"=\",c)\n",
    "    if c==2 or c==3 or c==12:\n",
    "        print(\"you lose\")\n",
    "    else:\n",
    "        if c==7 or c==11:\n",
    "            print(\"you win\")\n",
    "        else:\n",
    "            num=c\n",
    "            a=random.randint(1,6)\n",
    "            b=random.randint(1,6)\n",
    "            c=a+b\n",
    "            print(\"you rolled\",a,\"+\",b,\"=\",c,)\n",
    "            if c==7:\n",
    "                print(\"you lose\")\n",
    "            else:\n",
    "                while c==4 or c==5 or c==6 or c==8 or c==9 or c==10:\n",
    "                    a=random.randint(1,6)\n",
    "                    b=random.randint(1,6)\n",
    "                    if c==num:\n",
    "                        print(\"you rolled\",a,\"+\",b,\"=\",c,\"\\nyou win\")\n",
    "                        break\n",
    "                    else:\n",
    "                        if c==7:\n",
    "                            print(\"you rolled\",a,\"+\",b,\"=\",c,\"\\nyou lose\")"
   ]
  },
  {
   "cell_type": "code",
   "execution_count": 198,
   "metadata": {},
   "outputs": [
    {
     "name": "stdout",
     "output_type": "stream",
     "text": [
      "you rolled 3 + 5 = 8\n",
      "you rolled 6 + 2 = 8\n",
      "you rolled 4 + 2 = 8 \n",
      "you win\n"
     ]
    }
   ],
   "source": [
    "game()"
   ]
  },
  {
   "cell_type": "markdown",
   "metadata": {},
   "source": [
    "- 11 \n",
    "### 去网上寻找如何用Python代码发送邮件"
   ]
  },
  {
   "cell_type": "code",
   "execution_count": 7,
   "metadata": {},
   "outputs": [],
   "source": [
    "import smtplib\n",
    "from email.mime.text import MIMEText\n",
    "from email.mime.multipart import MIMEMultipart\n",
    "from email.mime.application import MIMEApplication\n",
    "\n",
    "# 发送邮件类\n",
    "class SendMail:\n",
    "    def __init__(self,content,subject,from_addr,to_addr,host,pwd,file_name=''):\n",
    "        self.content = content\n",
    "        self.subject = subject\n",
    "        self.from_addr = from_addr\n",
    "        self.to_addr = to_addr\n",
    "        self.host = host\n",
    "        self.pwd = pwd\n",
    "        self.file_name = file_name\n",
    "\n",
    "    def make_multi(self):#构造附件邮件\n",
    "        msg = MIMEMultipart()\n",
    "        msg['Subject'] = self.subject\n",
    "        msg['From'] = self.from_addr\n",
    "        msg['To'] = self.to_addr\n",
    "        #添加文本内容\n",
    "        msg_1 = MIMEText(self.content)\n",
    "        msg.attach(msg_1)\n",
    "        #添加附件\n",
    "        msg_2 = MIMEApplication(open(self.file_name,'rb').read())\n",
    "        msg_2.add_header('Content-Disposition','attachment',filename=self.file_name)\n",
    "        msg.attach(msg_2)\n",
    "        return msg\n",
    "\n",
    "    def make_text(self):#构造纯文本邮件\n",
    "        msg = MIMEText(self.content)\n",
    "        msg['Subject'] = self.subject\n",
    "        msg['From'] = self.from_addr\n",
    "        msg['To'] = self.to_addr\n",
    "        return msg\n",
    "\n",
    "    def send_mail(self):\n",
    "        #判断file_name如果为空，则发送纯文本邮件，不为空则发送附件邮件\n",
    "        if self.file_name == '':\n",
    "            msg = self.make_text()\n",
    "        else:\n",
    "            msg = self.make_multi()\n",
    "            s = smtplib.SMTP_SSL(self.host)\n",
    "            s.login(self.from_addr,self.pwd)\n",
    "            s.sendmail(self.from_addr,self.to_addr,msg.as_string())\n",
    "            s.close()"
   ]
  },
  {
   "cell_type": "code",
   "execution_count": 5,
   "metadata": {},
   "outputs": [],
   "source": [
    "import smtplib\n",
    "from email.mime.text import MIMEText\n",
    "'''\n",
    "发送邮件函数，默认使用163smtp\n",
    ":param mail_host: 邮箱服务器，16邮箱host: smtp.163.com\n",
    ":param port: 端口号,163邮箱的默认端口是 25\n",
    ":param username: 邮箱账号 xx@163.com\n",
    ":param passwd: 邮箱密码(不是邮箱的登录密码，是邮箱的授权码)\n",
    ":param recv: 邮箱接收人地址，多个账号以逗号隔开\n",
    ":param title: 邮件标题\n",
    ":param content: 邮件内容\n",
    ":return:\n",
    "'''\n",
    "\n",
    "def send_mail(username, passwd, recv, title, content, mail_host='smtp.163.com', port=25):\n",
    "    msg = MIMEText(content)  # 邮件内容\n",
    "    msg['Subject'] = title   # 邮件主题\n",
    "    msg['From'] = username   # 发送者账号\n",
    "    msg['To'] = recv      # 接收者账号列表\n",
    "    smtp = smtplib.SMTP(mail_host, port=port)   # 连接邮箱，传入邮箱地址，和端口号，smtp的端口号是25\n",
    "    smtp.login(username, passwd)          # 登录发送者的邮箱账号，密码\n",
    "      # 参数分别是 发送者，接收者，第三个是把上面的发送邮件的 内容变成字符串\n",
    "    smtp.sendmail(username, recv, msg.as_string())\n",
    "    smtp.quit() # 发送完毕后退出smtp\n",
    "    print('email send success.')\n",
    "    \n",
    "    if __name__ == '__main__':\n",
    "        email_user = 'xxxx@163.com' # 发送者账号\n",
    "        email_pwd = 'xxxxx' # 发送者密码,授权码\n",
    "        maillist = 'xxxx@qq.com'\n",
    "        title = '测试邮件标题'\n",
    "        content = '这里是邮件内容'\n",
    "        send_mail(email_user, email_pwd, maillist, title, content)"
   ]
  }
 ],
 "metadata": {
  "kernelspec": {
   "display_name": "Python 3",
   "language": "python",
   "name": "python3"
  },
  "language_info": {
   "codemirror_mode": {
    "name": "ipython",
    "version": 3
   },
   "file_extension": ".py",
   "mimetype": "text/x-python",
   "name": "python",
   "nbconvert_exporter": "python",
   "pygments_lexer": "ipython3",
   "version": "3.6.4"
  }
 },
 "nbformat": 4,
 "nbformat_minor": 2
}
